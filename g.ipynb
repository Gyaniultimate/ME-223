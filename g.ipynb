{
 "cells": [
  {
   "cell_type": "markdown",
   "metadata": {},
   "source": [
    "So here I am getting directly to the jupyter notebook. 1st step is obviously to import sympy. \n"
   ]
  },
  {
   "cell_type": "code",
   "execution_count": 168,
   "metadata": {},
   "outputs": [],
   "source": [
    "import sympy as sym\n",
    "\n",
    "r, theta = sym.symbols('r, theta')\n",
    "\n",
    "delr_by_delx = sym.cos(theta)\n",
    "\n",
    "delr_by_dely = sym.sin(theta)\n",
    "\n",
    "deltheta_by_delx = -sym.sin(theta)/r\n",
    "\n",
    "deltheta_by_dely = sym.cos(theta)/r"
   ]
  },
  {
   "cell_type": "markdown",
   "metadata": {},
   "source": [
    "In the above code we basically have defined r and theta , and following derivatives using the basics of polar coorindatees which we discussed. \n",
    "\n",
    "\\begin{align}\n",
    "\\frac{\\partial r}{\\partial x} &= \\cos \\theta \\\\\n",
    "\\frac{\\partial r}{\\partial y} &= \\sin \\theta \\\\\n",
    "\\frac{\\partial \\theta}{\\partial x} & = - \\frac{\\sin \\theta}{r}  \\\\\n",
    "\\frac{\\partial \\theta}{\\partial y} & = \\frac{\\cos \\theta}{r}  \\\\\n",
    "\\end{align}"
   ]
  },
  {
   "cell_type": "code",
   "execution_count": 169,
   "metadata": {},
   "outputs": [],
   "source": [
    "def del_by_delx(f):\n",
    "    return delr_by_delx*sym.diff(f,r) + deltheta_by_delx*sym.diff(f,theta)\n",
    "\n",
    "\n",
    "\n",
    "\n",
    "\n",
    "\n",
    "def del_by_dely(f):\n",
    "    return delr_by_dely*sym.diff(f,r) + deltheta_by_dely*sym.diff(f,theta)\n",
    "\n",
    "\n",
    "\n",
    "def del2_by_delx2(f):\n",
    "    return del_by_delx(del_by_delx(f))\n",
    "\n",
    "\n",
    "\n",
    "def del2_by_dely2(f):\n",
    "    return del_by_dely(del_by_dely(f))\n",
    "\n",
    "\n",
    "\n"
   ]
  },
  {
   "cell_type": "markdown",
   "metadata": {},
   "source": [
    "I think it is pretty obvious what i am doing above, to define laplacian on f , (so that we can get biharmonic by taking laplacian on laplacian of f) , in terms of polar coorindates, we need \n",
    "\n",
    "\\begin{align}\n",
    "\\displaystyle \\frac{\\partial^2 f}{\\partial x^2} + \\frac{\\partial^2 f}{\\partial y^2}\n",
    "\\end{align}\n",
    "\n",
    "\n",
    "so \n",
    "\n",
    "1st we defined this  in the 1st two functions : --  \n",
    "\n",
    "\\begin{align}\n",
    "\\frac{\\partial f}{\\partial x} &= \\frac{\\partial f}{\\partial r}\\frac{\\partial r}{\\partial x} + \\frac{\\partial f}{\\partial \\theta}\\frac{\\partial \\theta}{\\partial x}  \\\\\n",
    "\\frac{\\partial f}{\\partial y} &= \\frac{\\partial f}{\\partial r}\\frac{\\partial r}{\\partial y} + \\frac{\\partial f}{\\partial \\theta}\\frac{\\partial \\theta}{\\partial y} \\\\\n",
    "\\end{align}\n",
    "\n",
    "and to get the partial derivatives of order 2, we called the same function again. \n"
   ]
  },
  {
   "cell_type": "code",
   "execution_count": 170,
   "metadata": {},
   "outputs": [],
   "source": [
    "def polarLaplacian(f):\n",
    "    return (del2_by_delx2(f) + del2_by_dely2(f)).simplify()\n",
    "\n",
    "def polarbiharmonic(f):\n",
    "    return polarLaplacian(polarLaplacian(f))\n",
    "\n",
    "\n",
    "\n"
   ]
  },
  {
   "cell_type": "markdown",
   "metadata": {},
   "source": [
    "for laplacian we used the addition of the two functions we defined above, to get this. \n",
    "\n",
    "\\begin{align}\n",
    "\\displaystyle \\frac{\\partial^2 f}{\\partial x^2} + \\frac{\\partial^2 f}{\\partial y^2}\n",
    "\\end{align}\n",
    "\n",
    "and for biharmonic, we called the laplacian on the laplacian of f in terms of polar coordinates, and over!"
   ]
  },
  {
   "cell_type": "code",
   "execution_count": 171,
   "metadata": {},
   "outputs": [
    {
     "data": {
      "text/latex": [
       "$\\displaystyle \\frac{r^{4} \\frac{\\partial^{4}}{\\partial r^{4}} \\phi{\\left(r,\\theta \\right)} + 2 r^{3} \\frac{\\partial^{3}}{\\partial r^{3}} \\phi{\\left(r,\\theta \\right)} - r^{2} \\frac{\\partial^{2}}{\\partial r^{2}} \\phi{\\left(r,\\theta \\right)} + 2 r^{2} \\frac{\\partial^{4}}{\\partial \\theta^{2}\\partial r^{2}} \\phi{\\left(r,\\theta \\right)} + r \\frac{\\partial}{\\partial r} \\phi{\\left(r,\\theta \\right)} - 2 r \\frac{\\partial^{3}}{\\partial \\theta^{2}\\partial r} \\phi{\\left(r,\\theta \\right)} + 4 \\frac{\\partial^{2}}{\\partial \\theta^{2}} \\phi{\\left(r,\\theta \\right)} + \\frac{\\partial^{4}}{\\partial \\theta^{4}} \\phi{\\left(r,\\theta \\right)}}{r^{4}}$"
      ],
      "text/plain": [
       "(r**4*Derivative(phi(r, theta), (r, 4)) + 2*r**3*Derivative(phi(r, theta), (r, 3)) - r**2*Derivative(phi(r, theta), (r, 2)) + 2*r**2*Derivative(phi(r, theta), (r, 2), (theta, 2)) + r*Derivative(phi(r, theta), r) - 2*r*Derivative(phi(r, theta), r, (theta, 2)) + 4*Derivative(phi(r, theta), (theta, 2)) + Derivative(phi(r, theta), (theta, 4)))/r**4"
      ]
     },
     "execution_count": 171,
     "metadata": {},
     "output_type": "execute_result"
    }
   ],
   "source": [
    "phi = sym.Function('phi')(r,theta)\n",
    "\n",
    "polarbiharmonic(phi)\n"
   ]
  },
  {
   "cell_type": "markdown",
   "metadata": {},
   "source": [
    "now since we have polar biharmonic, we can easily perform this opertion by calling the function. Let's calculate the biharmonic of some functions.  \n",
    "\n",
    "-------------------------- ********  -------------------------\n",
    "\n",
    "Results: \n",
    "\n"
   ]
  },
  {
   "cell_type": "code",
   "execution_count": 172,
   "metadata": {},
   "outputs": [
    {
     "name": "stdout",
     "output_type": "stream",
     "text": [
      "biharmonic of cos(theta)\n"
     ]
    },
    {
     "data": {
      "text/latex": [
       "$\\displaystyle - \\frac{3 \\cos{\\left(\\theta \\right)}}{r^{4}}$"
      ],
      "text/plain": [
       "-3*cos(theta)/r**4"
      ]
     },
     "execution_count": 172,
     "metadata": {},
     "output_type": "execute_result"
    }
   ],
   "source": [
    "print(\"biharmonic of\",sym.cos(theta))\n",
    "polarbiharmonic(sym.cos(theta))"
   ]
  },
  {
   "cell_type": "code",
   "execution_count": 173,
   "metadata": {},
   "outputs": [
    {
     "name": "stdout",
     "output_type": "stream",
     "text": [
      "biharmonic of sin(theta) + cos(theta)\n"
     ]
    },
    {
     "data": {
      "text/latex": [
       "$\\displaystyle - \\frac{3 \\sqrt{2} \\sin{\\left(\\theta + \\frac{\\pi}{4} \\right)}}{r^{4}}$"
      ],
      "text/plain": [
       "-3*sqrt(2)*sin(theta + pi/4)/r**4"
      ]
     },
     "execution_count": 173,
     "metadata": {},
     "output_type": "execute_result"
    }
   ],
   "source": [
    "print(\"biharmonic of\",sym.cos(theta)+sym.sin(theta))\n",
    "polarbiharmonic(sym.cos(theta)+sym.sin(theta))"
   ]
  },
  {
   "cell_type": "code",
   "execution_count": 174,
   "metadata": {},
   "outputs": [
    {
     "name": "stdout",
     "output_type": "stream",
     "text": [
      "biharmonic of (sin(theta) + cos(theta))**8\n"
     ]
    },
    {
     "data": {
      "text/latex": [
       "$\\displaystyle \\frac{\\left(\\sin{\\left(2 \\theta \\right)} + 1\\right)^{2} \\left(1152 \\sqrt{2} \\left(1 - \\cos{\\left(2 \\theta \\right)}\\right)^{2} \\cos{\\left(2 \\theta + \\frac{\\pi}{4} \\right)} - 1536 \\left(1 - \\cos{\\left(2 \\theta \\right)}\\right)^{2} - 1632 \\sin{\\left(2 \\theta \\right)} - 1152 \\sin{\\left(4 \\theta \\right)} - 5088 \\cos{\\left(2 \\theta \\right)} - 288 \\sqrt{2} \\cos{\\left(6 \\theta + \\frac{\\pi}{4} \\right)} + 5184\\right)}{r^{4}}$"
      ],
      "text/plain": [
       "(sin(2*theta) + 1)**2*(1152*sqrt(2)*(1 - cos(2*theta))**2*cos(2*theta + pi/4) - 1536*(1 - cos(2*theta))**2 - 1632*sin(2*theta) - 1152*sin(4*theta) - 5088*cos(2*theta) - 288*sqrt(2)*cos(6*theta + pi/4) + 5184)/r**4"
      ]
     },
     "execution_count": 174,
     "metadata": {},
     "output_type": "execute_result"
    }
   ],
   "source": [
    "print(\"biharmonic of\",pow(sym.cos(theta)+sym.sin(theta),8))\n",
    "polarbiharmonic(pow(sym.cos(theta)+sym.sin(theta),8))"
   ]
  },
  {
   "cell_type": "markdown",
   "metadata": {},
   "source": [
    "As you can see, we can practically calculate the biharmonic of any complicated function, even hyperbolic , exponential functions and their combination. "
   ]
  }
 ],
 "metadata": {
  "kernelspec": {
   "display_name": "Python 3",
   "language": "python",
   "name": "python3"
  },
  "language_info": {
   "codemirror_mode": {
    "name": "ipython",
    "version": 3
   },
   "file_extension": ".py",
   "mimetype": "text/x-python",
   "name": "python",
   "nbconvert_exporter": "python",
   "pygments_lexer": "ipython3",
   "version": "3.8.3"
  }
 },
 "nbformat": 4,
 "nbformat_minor": 4
}
